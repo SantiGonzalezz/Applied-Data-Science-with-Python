{
 "cells": [
  {
   "cell_type": "markdown",
   "metadata": {},
   "source": [
    "## Basic Statistical Testing"
   ]
  },
  {
   "cell_type": "code",
   "execution_count": 3,
   "metadata": {},
   "outputs": [],
   "source": [
    "import numpy as np\n",
    "import pandas as pd\n",
    "\n",
    "from scipy import stats"
   ]
  },
  {
   "cell_type": "code",
   "execution_count": 4,
   "metadata": {},
   "outputs": [
    {
     "data": {
      "text/html": [
       "<div>\n",
       "<style scoped>\n",
       "    .dataframe tbody tr th:only-of-type {\n",
       "        vertical-align: middle;\n",
       "    }\n",
       "\n",
       "    .dataframe tbody tr th {\n",
       "        vertical-align: top;\n",
       "    }\n",
       "\n",
       "    .dataframe thead th {\n",
       "        text-align: right;\n",
       "    }\n",
       "</style>\n",
       "<table border=\"1\" class=\"dataframe\">\n",
       "  <thead>\n",
       "    <tr style=\"text-align: right;\">\n",
       "      <th></th>\n",
       "      <th>student_id</th>\n",
       "      <th>assignment1_grade</th>\n",
       "      <th>assignment1_submission</th>\n",
       "      <th>assignment2_grade</th>\n",
       "      <th>assignment2_submission</th>\n",
       "      <th>assignment3_grade</th>\n",
       "      <th>assignment3_submission</th>\n",
       "      <th>assignment4_grade</th>\n",
       "      <th>assignment4_submission</th>\n",
       "      <th>assignment5_grade</th>\n",
       "      <th>assignment5_submission</th>\n",
       "      <th>assignment6_grade</th>\n",
       "      <th>assignment6_submission</th>\n",
       "    </tr>\n",
       "  </thead>\n",
       "  <tbody>\n",
       "    <tr>\n",
       "      <th>0</th>\n",
       "      <td>B73F2C11-70F0-E37D-8B10-1D20AFED50B1</td>\n",
       "      <td>92.733946</td>\n",
       "      <td>2015-11-02 06:55:34.282000000</td>\n",
       "      <td>83.030552</td>\n",
       "      <td>2015-11-09 02:22:58.938000000</td>\n",
       "      <td>67.164441</td>\n",
       "      <td>2015-11-12 08:58:33.998000000</td>\n",
       "      <td>53.011553</td>\n",
       "      <td>2015-11-16 01:21:24.663000000</td>\n",
       "      <td>47.710398</td>\n",
       "      <td>2015-11-20 13:24:59.692000000</td>\n",
       "      <td>38.168318</td>\n",
       "      <td>2015-11-22 18:31:15.934000000</td>\n",
       "    </tr>\n",
       "    <tr>\n",
       "      <th>1</th>\n",
       "      <td>98A0FAE0-A19A-13D2-4BB5-CFBFD94031D1</td>\n",
       "      <td>86.790821</td>\n",
       "      <td>2015-11-29 14:57:44.429000000</td>\n",
       "      <td>86.290821</td>\n",
       "      <td>2015-12-06 17:41:18.449000000</td>\n",
       "      <td>69.772657</td>\n",
       "      <td>2015-12-10 08:54:55.904000000</td>\n",
       "      <td>55.098125</td>\n",
       "      <td>2015-12-13 17:32:30.941000000</td>\n",
       "      <td>49.588313</td>\n",
       "      <td>2015-12-19 23:26:39.285000000</td>\n",
       "      <td>44.629482</td>\n",
       "      <td>2015-12-21 17:07:24.275000000</td>\n",
       "    </tr>\n",
       "    <tr>\n",
       "      <th>2</th>\n",
       "      <td>D0F62040-CEB0-904C-F563-2F8620916C4E</td>\n",
       "      <td>85.512541</td>\n",
       "      <td>2016-01-09 05:36:02.389000000</td>\n",
       "      <td>85.512541</td>\n",
       "      <td>2016-01-09 06:39:44.416000000</td>\n",
       "      <td>68.410033</td>\n",
       "      <td>2016-01-15 20:22:45.882000000</td>\n",
       "      <td>54.728026</td>\n",
       "      <td>2016-01-11 12:41:50.749000000</td>\n",
       "      <td>49.255224</td>\n",
       "      <td>2016-01-11 17:31:12.489000000</td>\n",
       "      <td>44.329701</td>\n",
       "      <td>2016-01-17 16:24:42.765000000</td>\n",
       "    </tr>\n",
       "    <tr>\n",
       "      <th>3</th>\n",
       "      <td>FFDF2B2C-F514-EF7F-6538-A6A53518E9DC</td>\n",
       "      <td>86.030665</td>\n",
       "      <td>2016-04-30 06:50:39.801000000</td>\n",
       "      <td>68.824532</td>\n",
       "      <td>2016-04-30 17:20:38.727000000</td>\n",
       "      <td>61.942079</td>\n",
       "      <td>2016-05-12 07:47:16.326000000</td>\n",
       "      <td>49.553663</td>\n",
       "      <td>2016-05-07 16:09:20.485000000</td>\n",
       "      <td>49.553663</td>\n",
       "      <td>2016-05-24 12:51:18.016000000</td>\n",
       "      <td>44.598297</td>\n",
       "      <td>2016-05-26 08:09:12.058000000</td>\n",
       "    </tr>\n",
       "    <tr>\n",
       "      <th>4</th>\n",
       "      <td>5ECBEEB6-F1CE-80AE-3164-E45E99473FB4</td>\n",
       "      <td>64.813800</td>\n",
       "      <td>2015-12-13 17:06:10.750000000</td>\n",
       "      <td>51.491040</td>\n",
       "      <td>2015-12-14 12:25:12.056000000</td>\n",
       "      <td>41.932832</td>\n",
       "      <td>2015-12-29 14:25:22.594000000</td>\n",
       "      <td>36.929549</td>\n",
       "      <td>2015-12-28 01:29:55.901000000</td>\n",
       "      <td>33.236594</td>\n",
       "      <td>2015-12-29 14:46:06.628000000</td>\n",
       "      <td>33.236594</td>\n",
       "      <td>2016-01-05 01:06:59.546000000</td>\n",
       "    </tr>\n",
       "  </tbody>\n",
       "</table>\n",
       "</div>"
      ],
      "text/plain": [
       "                             student_id  assignment1_grade  \\\n",
       "0  B73F2C11-70F0-E37D-8B10-1D20AFED50B1          92.733946   \n",
       "1  98A0FAE0-A19A-13D2-4BB5-CFBFD94031D1          86.790821   \n",
       "2  D0F62040-CEB0-904C-F563-2F8620916C4E          85.512541   \n",
       "3  FFDF2B2C-F514-EF7F-6538-A6A53518E9DC          86.030665   \n",
       "4  5ECBEEB6-F1CE-80AE-3164-E45E99473FB4          64.813800   \n",
       "\n",
       "          assignment1_submission  assignment2_grade  \\\n",
       "0  2015-11-02 06:55:34.282000000          83.030552   \n",
       "1  2015-11-29 14:57:44.429000000          86.290821   \n",
       "2  2016-01-09 05:36:02.389000000          85.512541   \n",
       "3  2016-04-30 06:50:39.801000000          68.824532   \n",
       "4  2015-12-13 17:06:10.750000000          51.491040   \n",
       "\n",
       "          assignment2_submission  assignment3_grade  \\\n",
       "0  2015-11-09 02:22:58.938000000          67.164441   \n",
       "1  2015-12-06 17:41:18.449000000          69.772657   \n",
       "2  2016-01-09 06:39:44.416000000          68.410033   \n",
       "3  2016-04-30 17:20:38.727000000          61.942079   \n",
       "4  2015-12-14 12:25:12.056000000          41.932832   \n",
       "\n",
       "          assignment3_submission  assignment4_grade  \\\n",
       "0  2015-11-12 08:58:33.998000000          53.011553   \n",
       "1  2015-12-10 08:54:55.904000000          55.098125   \n",
       "2  2016-01-15 20:22:45.882000000          54.728026   \n",
       "3  2016-05-12 07:47:16.326000000          49.553663   \n",
       "4  2015-12-29 14:25:22.594000000          36.929549   \n",
       "\n",
       "          assignment4_submission  assignment5_grade  \\\n",
       "0  2015-11-16 01:21:24.663000000          47.710398   \n",
       "1  2015-12-13 17:32:30.941000000          49.588313   \n",
       "2  2016-01-11 12:41:50.749000000          49.255224   \n",
       "3  2016-05-07 16:09:20.485000000          49.553663   \n",
       "4  2015-12-28 01:29:55.901000000          33.236594   \n",
       "\n",
       "          assignment5_submission  assignment6_grade  \\\n",
       "0  2015-11-20 13:24:59.692000000          38.168318   \n",
       "1  2015-12-19 23:26:39.285000000          44.629482   \n",
       "2  2016-01-11 17:31:12.489000000          44.329701   \n",
       "3  2016-05-24 12:51:18.016000000          44.598297   \n",
       "4  2015-12-29 14:46:06.628000000          33.236594   \n",
       "\n",
       "          assignment6_submission  \n",
       "0  2015-11-22 18:31:15.934000000  \n",
       "1  2015-12-21 17:07:24.275000000  \n",
       "2  2016-01-17 16:24:42.765000000  \n",
       "3  2016-05-26 08:09:12.058000000  \n",
       "4  2016-01-05 01:06:59.546000000  "
      ]
     },
     "execution_count": 4,
     "metadata": {},
     "output_type": "execute_result"
    }
   ],
   "source": [
    "df = pd.read_csv('datasets/grades.csv')\n",
    "df.head()"
   ]
  },
  {
   "cell_type": "code",
   "execution_count": 7,
   "metadata": {},
   "outputs": [
    {
     "name": "stdout",
     "output_type": "stream",
     "text": [
      "<class 'pandas.core.frame.DataFrame'>\n",
      "RangeIndex: 2315 entries, 0 to 2314\n",
      "Data columns (total 13 columns):\n",
      " #   Column                  Non-Null Count  Dtype  \n",
      "---  ------                  --------------  -----  \n",
      " 0   student_id              2315 non-null   object \n",
      " 1   assignment1_grade       2315 non-null   float64\n",
      " 2   assignment1_submission  2315 non-null   object \n",
      " 3   assignment2_grade       2315 non-null   float64\n",
      " 4   assignment2_submission  2315 non-null   object \n",
      " 5   assignment3_grade       2315 non-null   float64\n",
      " 6   assignment3_submission  2315 non-null   object \n",
      " 7   assignment4_grade       2315 non-null   float64\n",
      " 8   assignment4_submission  2315 non-null   object \n",
      " 9   assignment5_grade       2315 non-null   float64\n",
      " 10  assignment5_submission  2315 non-null   object \n",
      " 11  assignment6_grade       2315 non-null   float64\n",
      " 12  assignment6_submission  2315 non-null   object \n",
      "dtypes: float64(6), object(7)\n",
      "memory usage: 235.2+ KB\n"
     ]
    },
    {
     "data": {
      "text/plain": [
       "(None, 2315, 13)"
      ]
     },
     "execution_count": 7,
     "metadata": {},
     "output_type": "execute_result"
    }
   ],
   "source": [
    "df.info(), df.shape[0], df.shape[1]"
   ]
  },
  {
   "cell_type": "code",
   "execution_count": 10,
   "metadata": {},
   "outputs": [
    {
     "data": {
      "text/html": [
       "<div>\n",
       "<style scoped>\n",
       "    .dataframe tbody tr th:only-of-type {\n",
       "        vertical-align: middle;\n",
       "    }\n",
       "\n",
       "    .dataframe tbody tr th {\n",
       "        vertical-align: top;\n",
       "    }\n",
       "\n",
       "    .dataframe thead th {\n",
       "        text-align: right;\n",
       "    }\n",
       "</style>\n",
       "<table border=\"1\" class=\"dataframe\">\n",
       "  <thead>\n",
       "    <tr style=\"text-align: right;\">\n",
       "      <th></th>\n",
       "      <th>student_id</th>\n",
       "      <th>assignment1_grade</th>\n",
       "      <th>assignment1_submission</th>\n",
       "      <th>assignment2_grade</th>\n",
       "      <th>assignment2_submission</th>\n",
       "      <th>assignment3_grade</th>\n",
       "      <th>assignment3_submission</th>\n",
       "      <th>assignment4_grade</th>\n",
       "      <th>assignment4_submission</th>\n",
       "      <th>assignment5_grade</th>\n",
       "      <th>assignment5_submission</th>\n",
       "      <th>assignment6_grade</th>\n",
       "      <th>assignment6_submission</th>\n",
       "    </tr>\n",
       "  </thead>\n",
       "  <tbody>\n",
       "    <tr>\n",
       "      <th>0</th>\n",
       "      <td>B73F2C11-70F0-E37D-8B10-1D20AFED50B1</td>\n",
       "      <td>92.733946</td>\n",
       "      <td>2015-11-02 06:55:34.282000000</td>\n",
       "      <td>83.030552</td>\n",
       "      <td>2015-11-09 02:22:58.938000000</td>\n",
       "      <td>67.164441</td>\n",
       "      <td>2015-11-12 08:58:33.998000000</td>\n",
       "      <td>53.011553</td>\n",
       "      <td>2015-11-16 01:21:24.663000000</td>\n",
       "      <td>47.710398</td>\n",
       "      <td>2015-11-20 13:24:59.692000000</td>\n",
       "      <td>38.168318</td>\n",
       "      <td>2015-11-22 18:31:15.934000000</td>\n",
       "    </tr>\n",
       "  </tbody>\n",
       "</table>\n",
       "</div>"
      ],
      "text/plain": [
       "                             student_id  assignment1_grade  \\\n",
       "0  B73F2C11-70F0-E37D-8B10-1D20AFED50B1          92.733946   \n",
       "\n",
       "          assignment1_submission  assignment2_grade  \\\n",
       "0  2015-11-02 06:55:34.282000000          83.030552   \n",
       "\n",
       "          assignment2_submission  assignment3_grade  \\\n",
       "0  2015-11-09 02:22:58.938000000          67.164441   \n",
       "\n",
       "          assignment3_submission  assignment4_grade  \\\n",
       "0  2015-11-12 08:58:33.998000000          53.011553   \n",
       "\n",
       "          assignment4_submission  assignment5_grade  \\\n",
       "0  2015-11-16 01:21:24.663000000          47.710398   \n",
       "\n",
       "          assignment5_submission  assignment6_grade  \\\n",
       "0  2015-11-20 13:24:59.692000000          38.168318   \n",
       "\n",
       "          assignment6_submission  \n",
       "0  2015-11-22 18:31:15.934000000  "
      ]
     },
     "execution_count": 10,
     "metadata": {},
     "output_type": "execute_result"
    }
   ],
   "source": [
    "early_finishers = df[pd.to_datetime(df['assignment1_submission']) < '2016']\n",
    "early_finishers.head(1)"
   ]
  },
  {
   "cell_type": "code",
   "execution_count": 13,
   "metadata": {},
   "outputs": [
    {
     "data": {
      "text/html": [
       "<div>\n",
       "<style scoped>\n",
       "    .dataframe tbody tr th:only-of-type {\n",
       "        vertical-align: middle;\n",
       "    }\n",
       "\n",
       "    .dataframe tbody tr th {\n",
       "        vertical-align: top;\n",
       "    }\n",
       "\n",
       "    .dataframe thead th {\n",
       "        text-align: right;\n",
       "    }\n",
       "</style>\n",
       "<table border=\"1\" class=\"dataframe\">\n",
       "  <thead>\n",
       "    <tr style=\"text-align: right;\">\n",
       "      <th></th>\n",
       "      <th>student_id</th>\n",
       "      <th>assignment1_grade</th>\n",
       "      <th>assignment1_submission</th>\n",
       "      <th>assignment2_grade</th>\n",
       "      <th>assignment2_submission</th>\n",
       "      <th>assignment3_grade</th>\n",
       "      <th>assignment3_submission</th>\n",
       "      <th>assignment4_grade</th>\n",
       "      <th>assignment4_submission</th>\n",
       "      <th>assignment5_grade</th>\n",
       "      <th>assignment5_submission</th>\n",
       "      <th>assignment6_grade</th>\n",
       "      <th>assignment6_submission</th>\n",
       "    </tr>\n",
       "  </thead>\n",
       "  <tbody>\n",
       "    <tr>\n",
       "      <th>2</th>\n",
       "      <td>D0F62040-CEB0-904C-F563-2F8620916C4E</td>\n",
       "      <td>85.512541</td>\n",
       "      <td>2016-01-09 05:36:02.389000000</td>\n",
       "      <td>85.512541</td>\n",
       "      <td>2016-01-09 06:39:44.416000000</td>\n",
       "      <td>68.410033</td>\n",
       "      <td>2016-01-15 20:22:45.882000000</td>\n",
       "      <td>54.728026</td>\n",
       "      <td>2016-01-11 12:41:50.749000000</td>\n",
       "      <td>49.255224</td>\n",
       "      <td>2016-01-11 17:31:12.489000000</td>\n",
       "      <td>44.329701</td>\n",
       "      <td>2016-01-17 16:24:42.765000000</td>\n",
       "    </tr>\n",
       "  </tbody>\n",
       "</table>\n",
       "</div>"
      ],
      "text/plain": [
       "                             student_id  assignment1_grade  \\\n",
       "2  D0F62040-CEB0-904C-F563-2F8620916C4E          85.512541   \n",
       "\n",
       "          assignment1_submission  assignment2_grade  \\\n",
       "2  2016-01-09 05:36:02.389000000          85.512541   \n",
       "\n",
       "          assignment2_submission  assignment3_grade  \\\n",
       "2  2016-01-09 06:39:44.416000000          68.410033   \n",
       "\n",
       "          assignment3_submission  assignment4_grade  \\\n",
       "2  2016-01-15 20:22:45.882000000          54.728026   \n",
       "\n",
       "          assignment4_submission  assignment5_grade  \\\n",
       "2  2016-01-11 12:41:50.749000000          49.255224   \n",
       "\n",
       "          assignment5_submission  assignment6_grade  \\\n",
       "2  2016-01-11 17:31:12.489000000          44.329701   \n",
       "\n",
       "          assignment6_submission  \n",
       "2  2016-01-17 16:24:42.765000000  "
      ]
     },
     "execution_count": 13,
     "metadata": {},
     "output_type": "execute_result"
    }
   ],
   "source": [
    "late_finishers = df[~df.index.isin(early_finishers.index)]\n",
    "late_finishers.head(1)"
   ]
  },
  {
   "cell_type": "code",
   "execution_count": 14,
   "metadata": {},
   "outputs": [
    {
     "data": {
      "text/plain": [
       "(74.94728457024304, 74.0450648477065)"
      ]
     },
     "execution_count": 14,
     "metadata": {},
     "output_type": "execute_result"
    }
   ],
   "source": [
    "early_finishers['assignment1_grade'].mean(), late_finishers['assignment1_grade'].mean()"
   ]
  },
  {
   "cell_type": "code",
   "execution_count": 15,
   "metadata": {},
   "outputs": [
    {
     "data": {
      "text/plain": [
       "Ttest_indResult(statistic=1.3223540853721598, pvalue=0.18618101101713855)"
      ]
     },
     "execution_count": 15,
     "metadata": {},
     "output_type": "execute_result"
    }
   ],
   "source": [
    "from scipy.stats import ttest_ind\n",
    "ttest_ind(early_finishers['assignment1_grade'], late_finishers['assignment1_grade'])\n"
   ]
  },
  {
   "cell_type": "code",
   "execution_count": 16,
   "metadata": {},
   "outputs": [
    {
     "name": "stdout",
     "output_type": "stream",
     "text": [
      "Ttest_indResult(statistic=1.3223540853721598, pvalue=0.18618101101713855)\n",
      "Ttest_indResult(statistic=1.2514717608216366, pvalue=0.2108889627004424)\n",
      "Ttest_indResult(statistic=1.6133726558705392, pvalue=0.10679998102227865)\n",
      "Ttest_indResult(statistic=0.049671157386456125, pvalue=0.960388729789337)\n",
      "Ttest_indResult(statistic=-0.05279315545404755, pvalue=0.9579012739746492)\n",
      "Ttest_indResult(statistic=-0.11609743352612056, pvalue=0.9075854011989656)\n"
     ]
    }
   ],
   "source": [
    "print(ttest_ind(early_finishers['assignment1_grade'], late_finishers['assignment1_grade']))\n",
    "print(ttest_ind(early_finishers['assignment2_grade'], late_finishers['assignment2_grade']))\n",
    "print(ttest_ind(early_finishers['assignment3_grade'], late_finishers['assignment3_grade']))\n",
    "print(ttest_ind(early_finishers['assignment4_grade'], late_finishers['assignment4_grade']))\n",
    "print(ttest_ind(early_finishers['assignment5_grade'], late_finishers['assignment5_grade']))\n",
    "print(ttest_ind(early_finishers['assignment6_grade'], late_finishers['assignment6_grade']))"
   ]
  },
  {
   "cell_type": "code",
   "execution_count": 31,
   "metadata": {},
   "outputs": [],
   "source": [
    "df1 = pd.DataFrame([np.random.random(100) for x in range(100)])\n",
    "df2 = pd.DataFrame([np.random.random(100) for x in range(100)])"
   ]
  },
  {
   "cell_type": "code",
   "execution_count": 32,
   "metadata": {},
   "outputs": [
    {
     "name": "stdout",
     "output_type": "stream",
     "text": [
      "Col 14 is statistically significantly different at alpha=0.05, pval=0.03744428977557884 \n",
      "Col 22 is statistically significantly different at alpha=0.05, pval=0.041514164598939154 \n",
      "Col 43 is statistically significantly different at alpha=0.05, pval=0.0378356913257954 \n",
      "Col 95 is statistically significantly different at alpha=0.05, pval=0.04818378945418674 \n",
      "Total number different was 4, which is 4.0%\n"
     ]
    }
   ],
   "source": [
    "def test_columns(alpha = 0.1):\n",
    "    num_diff = 0\n",
    "    for col in df1.columns:\n",
    "        teststat, pval = ttest_ind(df1[col], df2[col])\n",
    "        if pval <= alpha:\n",
    "            print(f'Col {col} is statistically significantly different at alpha={alpha}, pval={pval} ')\n",
    "            num_diff += 1\n",
    "    print(f'Total number different was {num_diff}, which is {num_diff/len(df1.columns)*100}%')\n",
    "test_columns(0.05)"
   ]
  },
  {
   "cell_type": "code",
   "execution_count": 33,
   "metadata": {},
   "outputs": [
    {
     "name": "stdout",
     "output_type": "stream",
     "text": [
      "Col 0 is statistically significantly different at alpha=0.1, pval=0.00032629043359619944 \n",
      "Col 1 is statistically significantly different at alpha=0.1, pval=0.00025680597951921 \n",
      "Col 2 is statistically significantly different at alpha=0.1, pval=5.781126945771541e-07 \n",
      "Col 3 is statistically significantly different at alpha=0.1, pval=0.0032812039129101528 \n",
      "Col 4 is statistically significantly different at alpha=0.1, pval=2.0758247157168013e-05 \n",
      "Col 5 is statistically significantly different at alpha=0.1, pval=0.0002448455616441983 \n",
      "Col 6 is statistically significantly different at alpha=0.1, pval=0.0020675071079822908 \n",
      "Col 7 is statistically significantly different at alpha=0.1, pval=0.00011261727855536063 \n",
      "Col 8 is statistically significantly different at alpha=0.1, pval=0.023132755404553396 \n",
      "Col 9 is statistically significantly different at alpha=0.1, pval=0.0001938477361055716 \n",
      "Col 10 is statistically significantly different at alpha=0.1, pval=0.00046828582589354516 \n",
      "Col 11 is statistically significantly different at alpha=0.1, pval=0.00014950835965760453 \n",
      "Col 12 is statistically significantly different at alpha=0.1, pval=7.196006696087446e-05 \n",
      "Col 13 is statistically significantly different at alpha=0.1, pval=0.0003043648833035228 \n",
      "Col 14 is statistically significantly different at alpha=0.1, pval=0.00018373944197405722 \n",
      "Col 15 is statistically significantly different at alpha=0.1, pval=1.688483998614443e-05 \n",
      "Col 16 is statistically significantly different at alpha=0.1, pval=0.0001528402574098625 \n",
      "Col 17 is statistically significantly different at alpha=0.1, pval=0.0012964773467206358 \n",
      "Col 18 is statistically significantly different at alpha=0.1, pval=0.00041009318851004513 \n",
      "Col 19 is statistically significantly different at alpha=0.1, pval=0.0016042422284705793 \n",
      "Col 20 is statistically significantly different at alpha=0.1, pval=0.0016027473665564762 \n",
      "Col 21 is statistically significantly different at alpha=0.1, pval=1.258340997338616e-05 \n",
      "Col 22 is statistically significantly different at alpha=0.1, pval=0.0019209561272056665 \n",
      "Col 23 is statistically significantly different at alpha=0.1, pval=0.0009392686818488783 \n",
      "Col 24 is statistically significantly different at alpha=0.1, pval=0.0023088845419017515 \n",
      "Col 25 is statistically significantly different at alpha=0.1, pval=0.01916065433925843 \n",
      "Col 26 is statistically significantly different at alpha=0.1, pval=0.00910698420802838 \n",
      "Col 27 is statistically significantly different at alpha=0.1, pval=8.43390978660411e-05 \n",
      "Col 28 is statistically significantly different at alpha=0.1, pval=4.9065399298526086e-05 \n",
      "Col 29 is statistically significantly different at alpha=0.1, pval=0.0031133371168984873 \n",
      "Col 30 is statistically significantly different at alpha=0.1, pval=2.8823425262377086e-05 \n",
      "Col 31 is statistically significantly different at alpha=0.1, pval=5.2568913487952555e-06 \n",
      "Col 32 is statistically significantly different at alpha=0.1, pval=0.0004502930773015974 \n",
      "Col 33 is statistically significantly different at alpha=0.1, pval=0.015482559669877148 \n",
      "Col 34 is statistically significantly different at alpha=0.1, pval=0.006642464014110997 \n",
      "Col 35 is statistically significantly different at alpha=0.1, pval=4.967314090001588e-05 \n",
      "Col 36 is statistically significantly different at alpha=0.1, pval=0.0008785909593445381 \n",
      "Col 37 is statistically significantly different at alpha=0.1, pval=1.543377485414566e-05 \n",
      "Col 38 is statistically significantly different at alpha=0.1, pval=0.00029420658772076684 \n",
      "Col 39 is statistically significantly different at alpha=0.1, pval=0.0001761780158892848 \n",
      "Col 40 is statistically significantly different at alpha=0.1, pval=0.01409315860782388 \n",
      "Col 41 is statistically significantly different at alpha=0.1, pval=0.0005246013588924808 \n",
      "Col 42 is statistically significantly different at alpha=0.1, pval=5.508110826389426e-05 \n",
      "Col 43 is statistically significantly different at alpha=0.1, pval=0.0009088783793214405 \n",
      "Col 44 is statistically significantly different at alpha=0.1, pval=0.0013699618360428199 \n",
      "Col 45 is statistically significantly different at alpha=0.1, pval=0.000128890527048563 \n",
      "Col 46 is statistically significantly different at alpha=0.1, pval=0.016175776064256568 \n",
      "Col 47 is statistically significantly different at alpha=0.1, pval=7.80446096119744e-05 \n",
      "Col 48 is statistically significantly different at alpha=0.1, pval=0.00035768606656246633 \n",
      "Col 49 is statistically significantly different at alpha=0.1, pval=0.0013381517733211843 \n",
      "Col 50 is statistically significantly different at alpha=0.1, pval=0.0006797378381300064 \n",
      "Col 51 is statistically significantly different at alpha=0.1, pval=0.0001283254259207739 \n",
      "Col 52 is statistically significantly different at alpha=0.1, pval=0.0001948516186133878 \n",
      "Col 53 is statistically significantly different at alpha=0.1, pval=0.0005085469180462576 \n",
      "Col 54 is statistically significantly different at alpha=0.1, pval=0.006349860508179457 \n",
      "Col 55 is statistically significantly different at alpha=0.1, pval=0.003951622491229541 \n",
      "Col 56 is statistically significantly different at alpha=0.1, pval=0.0022791452373148997 \n",
      "Col 57 is statistically significantly different at alpha=0.1, pval=0.005270400412905585 \n",
      "Col 58 is statistically significantly different at alpha=0.1, pval=0.00033226385575399876 \n",
      "Col 59 is statistically significantly different at alpha=0.1, pval=0.0002788971470037117 \n",
      "Col 60 is statistically significantly different at alpha=0.1, pval=8.883669220808136e-05 \n",
      "Col 61 is statistically significantly different at alpha=0.1, pval=0.001679913823385304 \n",
      "Col 62 is statistically significantly different at alpha=0.1, pval=0.0006817626579703398 \n",
      "Col 63 is statistically significantly different at alpha=0.1, pval=0.007539357023979859 \n",
      "Col 64 is statistically significantly different at alpha=0.1, pval=7.699226304363194e-06 \n",
      "Col 65 is statistically significantly different at alpha=0.1, pval=0.00014999603229780007 \n",
      "Col 66 is statistically significantly different at alpha=0.1, pval=0.0009251717541772506 \n",
      "Col 67 is statistically significantly different at alpha=0.1, pval=0.0004099576606483249 \n",
      "Col 68 is statistically significantly different at alpha=0.1, pval=4.32529755758406e-05 \n",
      "Col 69 is statistically significantly different at alpha=0.1, pval=0.0015322649705967531 \n",
      "Col 70 is statistically significantly different at alpha=0.1, pval=7.127454351609503e-05 \n",
      "Col 71 is statistically significantly different at alpha=0.1, pval=0.006742272175705395 \n",
      "Col 72 is statistically significantly different at alpha=0.1, pval=8.650267797155182e-05 \n",
      "Col 73 is statistically significantly different at alpha=0.1, pval=0.050939098707523923 \n",
      "Col 74 is statistically significantly different at alpha=0.1, pval=0.0015562414915797362 \n",
      "Col 75 is statistically significantly different at alpha=0.1, pval=0.0001946336004955143 \n",
      "Col 76 is statistically significantly different at alpha=0.1, pval=0.00014951785014653983 \n",
      "Col 77 is statistically significantly different at alpha=0.1, pval=0.00028232442530777796 \n",
      "Col 78 is statistically significantly different at alpha=0.1, pval=0.00010577384161702894 \n",
      "Col 79 is statistically significantly different at alpha=0.1, pval=4.6448510299250027e-05 \n",
      "Col 80 is statistically significantly different at alpha=0.1, pval=0.02184830928799962 \n",
      "Col 81 is statistically significantly different at alpha=0.1, pval=0.001304803738603952 \n",
      "Col 82 is statistically significantly different at alpha=0.1, pval=0.00022873255426831342 \n",
      "Col 83 is statistically significantly different at alpha=0.1, pval=0.006441545489008153 \n",
      "Col 84 is statistically significantly different at alpha=0.1, pval=2.7818692077679638e-08 \n",
      "Col 85 is statistically significantly different at alpha=0.1, pval=0.0009372507529070305 \n",
      "Col 86 is statistically significantly different at alpha=0.1, pval=0.0003983360678726443 \n",
      "Col 87 is statistically significantly different at alpha=0.1, pval=0.0009374235493561488 \n",
      "Col 88 is statistically significantly different at alpha=0.1, pval=0.00033403604777200316 \n",
      "Col 89 is statistically significantly different at alpha=0.1, pval=0.00013184366425125272 \n",
      "Col 90 is statistically significantly different at alpha=0.1, pval=0.0059293431114328535 \n",
      "Col 91 is statistically significantly different at alpha=0.1, pval=0.03554474470259218 \n",
      "Col 92 is statistically significantly different at alpha=0.1, pval=0.0013325126114524294 \n",
      "Col 93 is statistically significantly different at alpha=0.1, pval=8.117542067834369e-05 \n",
      "Col 94 is statistically significantly different at alpha=0.1, pval=0.001441621259220446 \n",
      "Col 95 is statistically significantly different at alpha=0.1, pval=0.005978729763276788 \n",
      "Col 96 is statistically significantly different at alpha=0.1, pval=4.241538353767012e-05 \n",
      "Col 97 is statistically significantly different at alpha=0.1, pval=0.00038046436979668986 \n",
      "Col 98 is statistically significantly different at alpha=0.1, pval=0.046557875698488904 \n",
      "Col 99 is statistically significantly different at alpha=0.1, pval=0.00038848218702010665 \n",
      "Total number different was 100, which is 100.0%\n"
     ]
    }
   ],
   "source": [
    "df2 = pd.DataFrame([np.random.chisquare(df=1, size=100) for x in range(100)])\n",
    "test_columns()"
   ]
  },
  {
   "cell_type": "code",
   "execution_count": null,
   "metadata": {},
   "outputs": [],
   "source": []
  }
 ],
 "metadata": {
  "kernelspec": {
   "display_name": "Python 3.10.6 64-bit",
   "language": "python",
   "name": "python3"
  },
  "language_info": {
   "codemirror_mode": {
    "name": "ipython",
    "version": 3
   },
   "file_extension": ".py",
   "mimetype": "text/x-python",
   "name": "python",
   "nbconvert_exporter": "python",
   "pygments_lexer": "ipython3",
   "version": "3.10.6"
  },
  "orig_nbformat": 4,
  "vscode": {
   "interpreter": {
    "hash": "dd14f85466f1c1274a7f813c7e51936489923580ae52659433b733773b1a6a00"
   }
  }
 },
 "nbformat": 4,
 "nbformat_minor": 2
}
