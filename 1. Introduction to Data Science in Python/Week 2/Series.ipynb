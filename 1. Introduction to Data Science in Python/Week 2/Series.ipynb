{
 "cells": [
  {
   "cell_type": "markdown",
   "metadata": {},
   "source": [
    "# Introduction to Pandas and Series Data"
   ]
  },
  {
   "cell_type": "code",
   "execution_count": 1,
   "metadata": {},
   "outputs": [],
   "source": [
    "import pandas as pd\n",
    "import numpy as np"
   ]
  },
  {
   "cell_type": "markdown",
   "metadata": {},
   "source": [
    "## None and NaN\n",
    "\n",
    "If we have a Series compound by strings the missing values will be put as `None`.\n",
    "\n",
    "However, if the missing value is in a Series of integers or floats it will have the value `NaN`.\n",
    "\n",
    "These two are not equivalent one to another"
   ]
  },
  {
   "cell_type": "code",
   "execution_count": 18,
   "metadata": {},
   "outputs": [
    {
     "data": {
      "text/plain": [
       "(0    Alice\n",
       " 1     Jack\n",
       " 2     None\n",
       " dtype: object,\n",
       " 0    1.0\n",
       " 1    2.0\n",
       " 2    NaN\n",
       " dtype: float64)"
      ]
     },
     "execution_count": 18,
     "metadata": {},
     "output_type": "execute_result"
    }
   ],
   "source": [
    "students = ['Alice', 'Jack', None]\n",
    "numbers = [1, 2, None]\n",
    "\n",
    "pd.Series(students), pd.Series(numbers)"
   ]
  },
  {
   "cell_type": "code",
   "execution_count": 19,
   "metadata": {},
   "outputs": [
    {
     "data": {
      "text/plain": [
       "(False, False, True)"
      ]
     },
     "execution_count": 19,
     "metadata": {},
     "output_type": "execute_result"
    }
   ],
   "source": [
    "np.nan == None, np.nan == np.nan, np.isnan(np.nan)"
   ]
  },
  {
   "cell_type": "markdown",
   "metadata": {},
   "source": [
    "## Series"
   ]
  },
  {
   "cell_type": "code",
   "execution_count": 22,
   "metadata": {},
   "outputs": [
    {
     "data": {
      "text/plain": [
       "Alice      Physics\n",
       "Jack     Chemistry\n",
       "Molly      English\n",
       "dtype: object"
      ]
     },
     "execution_count": 22,
     "metadata": {},
     "output_type": "execute_result"
    }
   ],
   "source": [
    "students = {'Alice': 'Physics',\n",
    "            'Jack': 'Chemistry',\n",
    "            'Molly': 'English'}\n",
    "\n",
    "s = pd.Series(students)\n",
    "s"
   ]
  },
  {
   "cell_type": "code",
   "execution_count": 25,
   "metadata": {},
   "outputs": [
    {
     "data": {
      "text/plain": [
       "Index(['Alice', 'Jack', 'Molly'], dtype='object')"
      ]
     },
     "execution_count": 25,
     "metadata": {},
     "output_type": "execute_result"
    }
   ],
   "source": [
    "s.index"
   ]
  },
  {
   "cell_type": "code",
   "execution_count": 30,
   "metadata": {},
   "outputs": [
    {
     "data": {
      "text/plain": [
       "Alice      Physics\n",
       "Jack     Chemistry\n",
       "Molly      English\n",
       "dtype: object"
      ]
     },
     "execution_count": 30,
     "metadata": {},
     "output_type": "execute_result"
    }
   ],
   "source": [
    "s = pd.Series(['Physics', 'Chemistry', 'English'],\n",
    "              index=['Alice', 'Jack', 'Molly'])\n",
    "s"
   ]
  },
  {
   "cell_type": "code",
   "execution_count": 34,
   "metadata": {},
   "outputs": [
    {
     "data": {
      "text/plain": [
       "Alice    Physics\n",
       "Molly    English\n",
       "Sam          NaN\n",
       "dtype: object"
      ]
     },
     "execution_count": 34,
     "metadata": {},
     "output_type": "execute_result"
    }
   ],
   "source": [
    "students = ['Alice', 'Molly', 'Sam']\n",
    "students_scores = {'Alice': 'Physics',\n",
    "                   'Jack': 'Chemistry',\n",
    "                   'Molly': 'English'}\n",
    "s = pd.Series(students_scores, index=students)\n",
    "s"
   ]
  },
  {
   "cell_type": "markdown",
   "metadata": {},
   "source": [
    "### Querying Series\n",
    "\n",
    "They can be queried either by index position or index label. If you don't give the index it will be the same\n",
    "\n",
    "You can use the following attributes:\n",
    "\n",
    "Numeric location\n",
    "- `iloc[x: int]`\n",
    "\n",
    "Index label\n",
    "- `loc[x: str]`"
   ]
  },
  {
   "cell_type": "code",
   "execution_count": 35,
   "metadata": {},
   "outputs": [
    {
     "data": {
      "text/plain": [
       "Alice      Physics\n",
       "Jack     Chemistry\n",
       "Molly      English\n",
       "Sam        History\n",
       "dtype: object"
      ]
     },
     "execution_count": 35,
     "metadata": {},
     "output_type": "execute_result"
    }
   ],
   "source": [
    "students = {'Alice': 'Physics',\n",
    "            'Jack': 'Chemistry',\n",
    "            'Molly': 'English',\n",
    "            'Sam': 'History'}\n",
    "\n",
    "s = pd.Series(students)\n",
    "s"
   ]
  },
  {
   "cell_type": "code",
   "execution_count": 44,
   "metadata": {},
   "outputs": [
    {
     "data": {
      "text/plain": [
       "('History', 'History', 'History', 'History')"
      ]
     },
     "execution_count": 44,
     "metadata": {},
     "output_type": "execute_result"
    }
   ],
   "source": [
    "# the 3rd and 4th form could be confusing and lead to errors when the index are numbers\n",
    "s.iloc[3], s.loc['Sam'], s[3], s['Sam']"
   ]
  },
  {
   "cell_type": "code",
   "execution_count": 49,
   "metadata": {},
   "outputs": [
    {
     "data": {
      "text/plain": [
       "99       Physics\n",
       "100    Chemistry\n",
       "101      English\n",
       "102      History\n",
       "dtype: object"
      ]
     },
     "execution_count": 49,
     "metadata": {},
     "output_type": "execute_result"
    }
   ],
   "source": [
    "class_code = {99: 'Physics',\n",
    "              100: 'Chemistry',\n",
    "              101: 'English',\n",
    "              102: 'History'}\n",
    "s = pd.Series(class_code)\n",
    "s"
   ]
  },
  {
   "cell_type": "code",
   "execution_count": 54,
   "metadata": {},
   "outputs": [
    {
     "data": {
      "text/plain": [
       "0    90\n",
       "1    80\n",
       "2    70\n",
       "3    60\n",
       "dtype: int64"
      ]
     },
     "execution_count": 54,
     "metadata": {},
     "output_type": "execute_result"
    }
   ],
   "source": [
    "grades = pd.Series([90, 80, 70, 60])\n",
    "grades"
   ]
  },
  {
   "cell_type": "code",
   "execution_count": 58,
   "metadata": {},
   "outputs": [
    {
     "data": {
      "text/plain": [
       "(300, 300, 300)"
      ]
     },
     "execution_count": 58,
     "metadata": {},
     "output_type": "execute_result"
    }
   ],
   "source": [
    "total = 0\n",
    "for grade in grades:\n",
    "    total += grade\n",
    "\n",
    "total, grades.sum(), np.sum(grades)"
   ]
  },
  {
   "cell_type": "code",
   "execution_count": 69,
   "metadata": {},
   "outputs": [
    {
     "data": {
      "text/plain": [
       "0     26\n",
       "1    488\n",
       "2    283\n",
       "3     38\n",
       "4    400\n",
       "dtype: int32"
      ]
     },
     "execution_count": 69,
     "metadata": {},
     "output_type": "execute_result"
    }
   ],
   "source": [
    "numbers = pd.Series(np.random.randint(0, 1000, 10000))\n",
    "numbers.head()"
   ]
  },
  {
   "cell_type": "code",
   "execution_count": 63,
   "metadata": {},
   "outputs": [
    {
     "name": "stdout",
     "output_type": "stream",
     "text": [
      "1.32 ms ± 351 µs per loop (mean ± std. dev. of 7 runs, 100 loops each)\n"
     ]
    }
   ],
   "source": [
    "%%timeit -n 100\n",
    "total = 0\n",
    "for number in numbers:\n",
    "    total += number\n",
    "total/len(numbers)"
   ]
  },
  {
   "cell_type": "code",
   "execution_count": 72,
   "metadata": {},
   "outputs": [
    {
     "name": "stdout",
     "output_type": "stream",
     "text": [
      "214 µs ± 78.4 µs per loop (mean ± std. dev. of 7 runs, 100 loops each)\n"
     ]
    }
   ],
   "source": [
    "%%timeit -n 100\n",
    "numbers.mean()"
   ]
  },
  {
   "cell_type": "code",
   "execution_count": 75,
   "metadata": {},
   "outputs": [
    {
     "data": {
      "text/plain": [
       "(99       Physics\n",
       " 100    Chemistry\n",
       " 101            2\n",
       " 102      History\n",
       " dtype: object,\n",
       " 99       Physics\n",
       " 100    Chemistry\n",
       " 101      English\n",
       " 102      History\n",
       " dtype: object)"
      ]
     },
     "execution_count": 75,
     "metadata": {},
     "output_type": "execute_result"
    }
   ],
   "source": [
    "a = s.copy()\n",
    "a.iloc[2] = 2\n",
    "a, s"
   ]
  }
 ],
 "metadata": {
  "kernelspec": {
   "display_name": "Python 3.10.5 64-bit (system)",
   "language": "python",
   "name": "python3"
  },
  "language_info": {
   "codemirror_mode": {
    "name": "ipython",
    "version": 3
   },
   "file_extension": ".py",
   "mimetype": "text/x-python",
   "name": "python",
   "nbconvert_exporter": "python",
   "pygments_lexer": "ipython3",
   "version": "3.10.5"
  },
  "orig_nbformat": 4,
  "vscode": {
   "interpreter": {
    "hash": "b50ed6ac63a8ec1bd52de7044bf180293ce2cc06f07684af7b8f6a1d7629c741"
   }
  }
 },
 "nbformat": 4,
 "nbformat_minor": 2
}
