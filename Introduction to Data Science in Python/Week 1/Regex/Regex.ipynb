{
 "cells": [
  {
   "cell_type": "markdown",
   "metadata": {},
   "source": [
    "# Regex"
   ]
  },
  {
   "cell_type": "code",
   "execution_count": 1,
   "metadata": {},
   "outputs": [],
   "source": [
    "import re"
   ]
  },
  {
   "cell_type": "markdown",
   "metadata": {},
   "source": [
    "1. `search`: looks for a pattern and returns a boolean \n",
    "1. `split`: use a pattern for creating a list of substrings\n",
    "1. `findall`: look for a pattern and pull all ocurrences"
   ]
  },
  {
   "cell_type": "code",
   "execution_count": 10,
   "metadata": {},
   "outputs": [],
   "source": [
    "text = 'Amy works diligently. Amy gets good grades. Our student Amy is succesful.'"
   ]
  },
  {
   "cell_type": "code",
   "execution_count": 87,
   "metadata": {},
   "outputs": [
    {
     "name": "stdout",
     "output_type": "stream",
     "text": [
      "Wonderful\n"
     ]
    },
    {
     "data": {
      "text/plain": [
       "<re.Match object; span=(26, 30), match='gets'>"
      ]
     },
     "execution_count": 87,
     "metadata": {},
     "output_type": "execute_result"
    }
   ],
   "source": [
    "# search returns a boolean and a re.Match object\n",
    "if re.search('gets', text):\n",
    "    print('Wonderful')\n",
    "else:\n",
    "    print('Alas')\n",
    "\n",
    "re.search('gets', text)"
   ]
  },
  {
   "cell_type": "code",
   "execution_count": 11,
   "metadata": {},
   "outputs": [
    {
     "data": {
      "text/plain": [
       "['',\n",
       " ' works diligently. ',\n",
       " ' gets good grades. Our student ',\n",
       " ' is succesful.']"
      ]
     },
     "execution_count": 11,
     "metadata": {},
     "output_type": "execute_result"
    }
   ],
   "source": [
    "re.split('Amy', text)"
   ]
  },
  {
   "cell_type": "code",
   "execution_count": 15,
   "metadata": {},
   "outputs": [
    {
     "data": {
      "text/plain": [
       "['Amy', 'Amy', 'Amy']"
      ]
     },
     "execution_count": 15,
     "metadata": {},
     "output_type": "execute_result"
    }
   ],
   "source": [
    "re.findall('Amy', text)"
   ]
  },
  {
   "cell_type": "markdown",
   "metadata": {},
   "source": [
    "## Markup language to describe patterns\n",
    "\n",
    "- `^`: means start\n",
    "- `$`: means end\n"
   ]
  },
  {
   "cell_type": "code",
   "execution_count": 29,
   "metadata": {},
   "outputs": [],
   "source": [
    "text = 'Amy works diligently. Amy gets good grades. Our student Amy is succesful.'"
   ]
  },
  {
   "cell_type": "code",
   "execution_count": 36,
   "metadata": {},
   "outputs": [
    {
     "data": {
      "text/plain": [
       "<re.Match object; span=(0, 3), match='Amy'>"
      ]
     },
     "execution_count": 36,
     "metadata": {},
     "output_type": "execute_result"
    }
   ],
   "source": [
    "# The span shows where it find the pattern, and where it ends the pattern\n",
    "re.search('^Amy', text)"
   ]
  },
  {
   "cell_type": "markdown",
   "metadata": {},
   "source": [
    "## Patterns and Character Classes\n",
    "\n",
    "- `[]`: set operator"
   ]
  },
  {
   "cell_type": "code",
   "execution_count": 38,
   "metadata": {},
   "outputs": [],
   "source": [
    "grades = 'ACAAAABCBCBAA'"
   ]
  },
  {
   "cell_type": "code",
   "execution_count": 40,
   "metadata": {},
   "outputs": [
    {
     "data": {
      "text/plain": [
       "['B', 'B', 'B']"
      ]
     },
     "execution_count": 40,
     "metadata": {},
     "output_type": "execute_result"
    }
   ],
   "source": [
    "# How many B's were in the grade list?\n",
    "re.findall('B', grades)"
   ]
  },
  {
   "cell_type": "code",
   "execution_count": 44,
   "metadata": {},
   "outputs": [
    {
     "data": {
      "text/plain": [
       "['A', 'A', 'A', 'A', 'A', 'B', 'B', 'B', 'A', 'A']"
      ]
     },
     "execution_count": 44,
     "metadata": {},
     "output_type": "execute_result"
    }
   ],
   "source": [
    "# Count A's or B's\n",
    "re.findall('[AB]', grades)"
   ]
  },
  {
   "cell_type": "code",
   "execution_count": 51,
   "metadata": {},
   "outputs": [
    {
     "data": {
      "text/plain": [
       "['AC', 'AB']"
      ]
     },
     "execution_count": 51,
     "metadata": {},
     "output_type": "execute_result"
    }
   ],
   "source": [
    "# Find all instances where the student receive an A followed by a B or a C\n",
    "re.findall('A[B-C]', grades)"
   ]
  },
  {
   "cell_type": "code",
   "execution_count": 53,
   "metadata": {},
   "outputs": [
    {
     "data": {
      "text/plain": [
       "['AC', 'AB']"
      ]
     },
     "execution_count": 53,
     "metadata": {},
     "output_type": "execute_result"
    }
   ],
   "source": [
    "re.findall('AB|AC', grades)"
   ]
  },
  {
   "cell_type": "code",
   "execution_count": 56,
   "metadata": {},
   "outputs": [
    {
     "data": {
      "text/plain": [
       "['C', 'B', 'C', 'B', 'C', 'B']"
      ]
     },
     "execution_count": 56,
     "metadata": {},
     "output_type": "execute_result"
    }
   ],
   "source": [
    "# \"^\" inside the set operator means negative or that doesn't match the pattern\n",
    "re.findall('[^A]', grades)"
   ]
  },
  {
   "cell_type": "code",
   "execution_count": 58,
   "metadata": {},
   "outputs": [
    {
     "data": {
      "text/plain": [
       "[]"
      ]
     },
     "execution_count": 58,
     "metadata": {},
     "output_type": "execute_result"
    }
   ],
   "source": [
    "re.findall('^[^A]', grades)"
   ]
  },
  {
   "cell_type": "markdown",
   "metadata": {},
   "source": [
    "## Quantifiers\n",
    "\n",
    "Is the number of times you want a pattern to be matched in order to count.\n",
    "\n",
    "1. `*`: 0 or more times\n",
    "1. `?`: 0 or 1 times\n",
    "1. `+`: 1 or more times\n",
    "1. `{n}`: exactly n times\n",
    "1. `{n,}`: at least n times\n",
    "1. `{n,m}`: from n to m times\n",
    "\n",
    "- `\\w` to match any letter or digit\n",
    "- `\\s` matchs any whitespace character, like spaces and tabs\n",
    "- `\\d` for any digit\n",
    "- `.` any character which is not a newline"
   ]
  },
  {
   "cell_type": "code",
   "execution_count": 59,
   "metadata": {},
   "outputs": [],
   "source": [
    "grades = 'ACAAAABCBCBAA'"
   ]
  },
  {
   "cell_type": "code",
   "execution_count": 62,
   "metadata": {},
   "outputs": [
    {
     "data": {
      "text/plain": [
       "['AAAA', 'AA']"
      ]
     },
     "execution_count": 62,
     "metadata": {},
     "output_type": "execute_result"
    }
   ],
   "source": [
    "re.findall('A{2,10}', grades)"
   ]
  },
  {
   "cell_type": "code",
   "execution_count": 66,
   "metadata": {},
   "outputs": [
    {
     "data": {
      "text/plain": [
       "(['AA', 'AA', 'AA'], ['AA', 'AA', 'AA'])"
      ]
     },
     "execution_count": 66,
     "metadata": {},
     "output_type": "execute_result"
    }
   ],
   "source": [
    "re.findall('A{1,1}A{1,1}', grades), re.findall('AA', grades)"
   ]
  },
  {
   "cell_type": "code",
   "execution_count": 68,
   "metadata": {},
   "outputs": [
    {
     "data": {
      "text/plain": [
       "['AA', 'AA', 'AA']"
      ]
     },
     "execution_count": 68,
     "metadata": {},
     "output_type": "execute_result"
    }
   ],
   "source": [
    "# just {x}, its considered both {m, n}, {2} equivalent {2, 2} \n",
    "re.findall('A{2}', grades)"
   ]
  },
  {
   "cell_type": "code",
   "execution_count": 71,
   "metadata": {},
   "outputs": [
    {
     "data": {
      "text/plain": [
       "['AAAABC']"
      ]
     },
     "execution_count": 71,
     "metadata": {},
     "output_type": "execute_result"
    }
   ],
   "source": [
    "re.findall('A{1,10}B{1,10}C{1,10}', grades)"
   ]
  },
  {
   "cell_type": "code",
   "execution_count": 94,
   "metadata": {},
   "outputs": [
    {
     "data": {
      "text/plain": [
       "'Family Educational Rights and Privacy Act\\n\\nFrom Wikipedia, the free encyclopedia\\n\\nJump to navigation Jump to search\\n\\nThis article has multiple issues. Please help improve it or discuss these issues on the talk page. (Learn how and when to remove these template messages)\\n\\nThis article needs additional citations for verification. Please help improve this article by adding citations to reliable sources. Unsourced material may be challenged and removed.Find sources: \"Family Educational Rights and Privacy Act\" â€“ news Â· newspapers Â· books Â· scholar Â· JSTOR (January 2012) (Learn how and when to remove this template message)\\n\\nThis article\\'s lead section may be too short to adequately summarize the key points. Please consider expanding the lead to provide an accessible overview of all important aspects of the article. (May 2015)\\n\\n(Learn how and when to remove this template message)\\n\\nFERPA\\n\\nLong title Family Educational Rights and Privacy Act\\n\\nCitations\\n\\nStatutes at Large\\n\\n20 U.S.C. Â§ 123'"
      ]
     },
     "execution_count": 94,
     "metadata": {},
     "output_type": "execute_result"
    }
   ],
   "source": [
    "with open('ferpa.txt', 'r') as file:\n",
    "    wiki = file.read()\n",
    "\n",
    "wiki[:1000]"
   ]
  },
  {
   "cell_type": "code",
   "execution_count": 97,
   "metadata": {},
   "outputs": [
    {
     "data": {
      "text/plain": [
       "['Overview[edit]',\n",
       " 'Access to public records[edit]',\n",
       " 'Student medical records[edit]',\n",
       " 'See also[edit]',\n",
       " 'References[edit]',\n",
       " 'External links[edit]']"
      ]
     },
     "execution_count": 97,
     "metadata": {},
     "output_type": "execute_result"
    }
   ],
   "source": [
    "# headers have the words [edit] behind them, followed by a newline\n",
    "re.findall('[a-z A-Z]{1,100}\\[edit\\]', wiki)"
   ]
  },
  {
   "cell_type": "code",
   "execution_count": 100,
   "metadata": {},
   "outputs": [
    {
     "data": {
      "text/plain": [
       "['Overview[edit]',\n",
       " 'Access to public records[edit]',\n",
       " 'Student medical records[edit]',\n",
       " 'See also[edit]',\n",
       " 'References[edit]',\n",
       " 'External links[edit]']"
      ]
     },
     "execution_count": 100,
     "metadata": {},
     "output_type": "execute_result"
    }
   ],
   "source": [
    "re.findall('[\\w ]{1,100}\\[edit\\]', wiki)"
   ]
  },
  {
   "cell_type": "code",
   "execution_count": 102,
   "metadata": {},
   "outputs": [
    {
     "data": {
      "text/plain": [
       "['Overview[edit]',\n",
       " 'Access to public records[edit]',\n",
       " 'Student medical records[edit]',\n",
       " 'See also[edit]',\n",
       " 'References[edit]',\n",
       " 'External links[edit]']"
      ]
     },
     "execution_count": 102,
     "metadata": {},
     "output_type": "execute_result"
    }
   ],
   "source": [
    "re.findall('[\\w ]*\\[edit\\]', wiki)"
   ]
  },
  {
   "cell_type": "code",
   "execution_count": 108,
   "metadata": {},
   "outputs": [
    {
     "name": "stdout",
     "output_type": "stream",
     "text": [
      "Overview\n",
      "Access to public records\n",
      "Student medical records\n",
      "See also\n",
      "References\n",
      "External links\n"
     ]
    }
   ],
   "source": [
    "for title in re.findall('[\\w ]*\\[edit\\]', wiki):\n",
    "    print(re.split('[\\[]', title)[0])"
   ]
  },
  {
   "cell_type": "markdown",
   "metadata": {},
   "source": [
    "## Groups\n",
    "\n",
    "To group patterns together you use parentheses `(` `)`"
   ]
  },
  {
   "cell_type": "code",
   "execution_count": 112,
   "metadata": {},
   "outputs": [
    {
     "data": {
      "text/plain": [
       "[('Overview', '[edit]'),\n",
       " ('Access to public records', '[edit]'),\n",
       " ('Student medical records', '[edit]'),\n",
       " ('See also', '[edit]'),\n",
       " ('References', '[edit]'),\n",
       " ('External links', '[edit]')]"
      ]
     },
     "execution_count": 112,
     "metadata": {},
     "output_type": "execute_result"
    }
   ],
   "source": [
    "re.findall('([\\w ]*)(\\[edit\\])', wiki)"
   ]
  },
  {
   "cell_type": "markdown",
   "metadata": {},
   "source": [
    "4. `finditer`: if we want a list of Match objects\n",
    "5. `groups`: returns a tuple of the group"
   ]
  },
  {
   "cell_type": "code",
   "execution_count": 120,
   "metadata": {},
   "outputs": [
    {
     "name": "stdout",
     "output_type": "stream",
     "text": [
      "('Overview', '[edit]') <re.Match object; span=(1940, 1954), match='Overview[edit]'>\n",
      "('Access to public records', '[edit]') <re.Match object; span=(4930, 4960), match='Access to public records[edit]'>\n",
      "('Student medical records', '[edit]') <re.Match object; span=(6141, 6170), match='Student medical records[edit]'>\n",
      "('See also', '[edit]') <re.Match object; span=(6693, 6707), match='See also[edit]'>\n",
      "('References', '[edit]') <re.Match object; span=(6810, 6826), match='References[edit]'>\n",
      "('External links', '[edit]') <re.Match object; span=(10696, 10716), match='External links[edit]'>\n"
     ]
    }
   ],
   "source": [
    "for item in re.finditer('([\\w ]*)(\\[edit\\])', wiki):\n",
    "    print(item.groups(), item)"
   ]
  },
  {
   "cell_type": "markdown",
   "metadata": {},
   "source": [
    "6. `group`: get an individual group using group and a number\n",
    "    - 0: the whole match\n",
    "    - Each other number is the portion of the match we are interested"
   ]
  },
  {
   "cell_type": "code",
   "execution_count": 126,
   "metadata": {},
   "outputs": [
    {
     "name": "stdout",
     "output_type": "stream",
     "text": [
      "Overview\n",
      "Access to public records\n",
      "Student medical records\n",
      "See also\n",
      "References\n",
      "External links\n"
     ]
    }
   ],
   "source": [
    "# \n",
    "for item in re.finditer('([\\w ]*)(\\[edit\\])', wiki):\n",
    "    print(item.group(1))"
   ]
  },
  {
   "cell_type": "markdown",
   "metadata": {},
   "source": [
    "### Naming groups\n",
    "We use the syntax `(?P<name>)`\n",
    "\n",
    "7. `groupdict`: takes a match and makes a dictionary based on the name of the group"
   ]
  },
  {
   "cell_type": "code",
   "execution_count": 138,
   "metadata": {},
   "outputs": [
    {
     "name": "stdout",
     "output_type": "stream",
     "text": [
      "Overview\n",
      "Access to public records\n",
      "Student medical records\n",
      "See also\n",
      "References\n",
      "External links\n"
     ]
    },
    {
     "data": {
      "text/plain": [
       "{'title': 'External links', 'edit_link': '[edit]'}"
      ]
     },
     "execution_count": 138,
     "metadata": {},
     "output_type": "execute_result"
    }
   ],
   "source": [
    "for item in re.finditer('(?P<title>[\\w ]*)(?P<edit_link>\\[edit\\])', wiki):\n",
    "    print(item.groupdict()['title'])\n",
    "item.groupdict()"
   ]
  },
  {
   "cell_type": "markdown",
   "metadata": {},
   "source": [
    "## Look-ahead and Look-behind\n",
    "\n",
    "Search for a pattern, but not capturing it.\n",
    "\n",
    "We use `?=` syntax"
   ]
  },
  {
   "cell_type": "code",
   "execution_count": 147,
   "metadata": {},
   "outputs": [
    {
     "name": "stdout",
     "output_type": "stream",
     "text": [
      "<re.Match object; span=(1940, 1948), match='Overview'>\n",
      "<re.Match object; span=(4930, 4954), match='Access to public records'>\n",
      "<re.Match object; span=(6141, 6164), match='Student medical records'>\n",
      "<re.Match object; span=(6693, 6701), match='See also'>\n",
      "<re.Match object; span=(6810, 6820), match='References'>\n",
      "<re.Match object; span=(10696, 10710), match='External links'>\n"
     ]
    }
   ],
   "source": [
    "for item in re.finditer('(?P<title>[\\w ]+)(?=\\[edit\\])', wiki):\n",
    "    print(item)"
   ]
  },
  {
   "cell_type": "markdown",
   "metadata": {},
   "source": [
    "## Example"
   ]
  },
  {
   "cell_type": "code",
   "execution_count": 77,
   "metadata": {},
   "outputs": [
    {
     "data": {
      "text/plain": [
       "'Buddhist universities and colleges in the United States\\n\\nFrom Wikipedia, the free encyclopedia\\n\\nJump to navigation Jump to search\\n\\nThis article needs additional citations for verification. Please help improve this article by adding citations to reliable sources. Unsourced material may be challenged and removed.Find sources: \"Buddhist universities and colleges in the United States\" - news Â· newspapers Â· books Â· scholar Â· JSTOR (December 2009) (Learn how and when to remove this template message)\\n\\nThere are several Buddhist universities in the United States. Some of these have existed for decades and are accredited. Others are relatively new and are either in the process of being accredited or else have no formal accreditation. The list includes:\\n\\nDhammakaya Open University - located in Azusa, California, part of the Thai Wat Phra Dhammakaya[1]\\n\\nDharmakirti College - located in Tucson, Arizona Now called Awam Tibetan Buddhist Institute (http://awaminstitute.org/)\\n\\nDharma Realm Buddhist University - located in Ukiah, California (Accredited by the WASC Senior College and University Commission)\\n\\nEwam Buddhist Institute - located in Arlee, Montana\\n\\nNaropa University - located in Boulder, Colorado (Accredited by the Higher Learning Commission)\\n\\nInstitute of Buddhist Studies - located in Berkeley, California\\n\\nMaitripa College - located in Portland, Oregon\\n\\nSoka University of America - located in Aliso Viejo, California\\n\\nUniversity of the West - located in Rosemead, California (Accredited by the WASC Senior College and University Commission)\\n\\nWon Institute of Graduate Studies - located in Glenside, Pennsylvania\\n\\nReferences[edit]'"
      ]
     },
     "execution_count": 77,
     "metadata": {},
     "output_type": "execute_result"
    }
   ],
   "source": [
    "with open('buddhist.txt', 'r') as file:\n",
    "    wiki = file.read()\n",
    "wiki"
   ]
  },
  {
   "cell_type": "code",
   "execution_count": 78,
   "metadata": {},
   "outputs": [],
   "source": [
    "# each university follows a pattern, name - located in city, state\n",
    "pattern = \"\"\"\n",
    "(?P<title>.*)       # the university title\n",
    "(-\\ located\\ in\\ )  # an indicator of the location\n",
    "(?P<city>[\\w ]*)       # city\n",
    "(,\\ )\n",
    "(?P<state>\\w*)      # state\"\"\""
   ]
  },
  {
   "cell_type": "code",
   "execution_count": 79,
   "metadata": {},
   "outputs": [
    {
     "name": "stdout",
     "output_type": "stream",
     "text": [
      "{'title': 'Dhammakaya Open University ', 'city': 'Azusa', 'state': 'California'}\n",
      "{'title': 'Dharmakirti College ', 'city': 'Tucson', 'state': 'Arizona'}\n",
      "{'title': 'Dharma Realm Buddhist University ', 'city': 'Ukiah', 'state': 'California'}\n",
      "{'title': 'Ewam Buddhist Institute ', 'city': 'Arlee', 'state': 'Montana'}\n",
      "{'title': 'Naropa University ', 'city': 'Boulder', 'state': 'Colorado'}\n",
      "{'title': 'Institute of Buddhist Studies ', 'city': 'Berkeley', 'state': 'California'}\n",
      "{'title': 'Maitripa College ', 'city': 'Portland', 'state': 'Oregon'}\n",
      "{'title': 'Soka University of America ', 'city': 'Aliso Viejo', 'state': 'California'}\n",
      "{'title': 'University of the West ', 'city': 'Rosemead', 'state': 'California'}\n",
      "{'title': 'Won Institute of Graduate Studies ', 'city': 'Glenside', 'state': 'Pennsylvania'}\n"
     ]
    }
   ],
   "source": [
    "ex = [item.groupdict() for item in re.finditer(pattern, wiki, re.VERBOSE)]\n",
    "\n",
    "# ex is equivalent to this  \n",
    "\n",
    "for item in re.finditer(pattern, wiki, re.VERBOSE):\n",
    "    print(item.groupdict())"
   ]
  },
  {
   "cell_type": "markdown",
   "metadata": {},
   "source": [
    "## Test"
   ]
  },
  {
   "cell_type": "code",
   "execution_count": 99,
   "metadata": {},
   "outputs": [],
   "source": [
    "prueba = ['www.aBC.com', 'abc.com', 'ab_c.de8f.com', \n",
    "          'abc', 'abc..com']"
   ]
  },
  {
   "cell_type": "code",
   "execution_count": 178,
   "metadata": {},
   "outputs": [],
   "source": [
    "patron = '''\n",
    "(w{3}.)?\n",
    "(.*)\n",
    "(\\w)\n",
    "(.com$)\n",
    "'''"
   ]
  },
  {
   "cell_type": "code",
   "execution_count": 179,
   "metadata": {},
   "outputs": [
    {
     "name": "stdout",
     "output_type": "stream",
     "text": [
      "<re.Match object; span=(0, 11), match='www.aBC.com'>\n",
      "<re.Match object; span=(0, 7), match='abc.com'>\n",
      "<re.Match object; span=(0, 13), match='ab_c.de8f.com'>\n"
     ]
    }
   ],
   "source": [
    "for word in prueba:\n",
    "    for item in re.finditer(patron, word, re.VERBOSE):\n",
    "        print(item)"
   ]
  },
  {
   "cell_type": "markdown",
   "metadata": {},
   "source": [
    "### Quiz"
   ]
  },
  {
   "cell_type": "code",
   "execution_count": 180,
   "metadata": {},
   "outputs": [],
   "source": [
    "import numpy as np"
   ]
  },
  {
   "cell_type": "code",
   "execution_count": 186,
   "metadata": {},
   "outputs": [
    {
     "data": {
      "text/plain": [
       "(array([1, 2, 3, 4]), array([1, 2, 3]))"
      ]
     },
     "execution_count": 186,
     "metadata": {},
     "output_type": "execute_result"
    }
   ],
   "source": [
    "a1 = np.random.rand(4)\n",
    "a2 = np.random.rand(4, 1)\n",
    "a3 = np.array([1, 2, 3, 4])\n",
    "a4 = np.arange(1, 4, 1)\n",
    "\n",
    "a3, a4"
   ]
  },
  {
   "cell_type": "code",
   "execution_count": 197,
   "metadata": {},
   "outputs": [
    {
     "data": {
      "text/plain": [
       "(array([[0, 0, 1],\n",
       "        [1, 1, 1]]),\n",
       " array([[0, 0, 1],\n",
       "        [1, 1, 1]]))"
      ]
     },
     "execution_count": 197,
     "metadata": {},
     "output_type": "execute_result"
    }
   ],
   "source": [
    "old = np.array([[1, 1, 1],\n",
    "               [1, 1, 1]])\n",
    "old = np.ones((2, 3)).astype(int)\n",
    "\n",
    "new = old\n",
    "new[0, :2] = 0\n",
    "\n",
    "old, new"
   ]
  },
  {
   "cell_type": "code",
   "execution_count": 201,
   "metadata": {},
   "outputs": [
    {
     "data": {
      "text/plain": [
       "(5, ['A', 'AA', 'AA', 'AA', 'A'])"
      ]
     },
     "execution_count": 201,
     "metadata": {},
     "output_type": "execute_result"
    }
   ],
   "source": [
    "s = 'ACAABAACAAAB'\n",
    "result = re.findall('A{1,2}', s)\n",
    "L = len(result)\n",
    "L, result"
   ]
  },
  {
   "cell_type": "code",
   "execution_count": 207,
   "metadata": {},
   "outputs": [
    {
     "data": {
      "text/plain": [
       "['google.com', 'www.baidu.com']"
      ]
     },
     "execution_count": 207,
     "metadata": {},
     "output_type": "execute_result"
    }
   ],
   "source": [
    "test = 'I refer to https://google.com and I never refer http://www.baidu.com if I have to search anything'\n",
    "pat = '(?<=[https]:\\/\\/)([A-Za-z0-9.]*)'\n",
    "re.findall(pat, test)"
   ]
  },
  {
   "cell_type": "code",
   "execution_count": 208,
   "metadata": {},
   "outputs": [
    {
     "name": "stdout",
     "output_type": "stream",
     "text": [
      "4\n"
     ]
    }
   ],
   "source": [
    "text='''Everyone has the following fundamental freedoms:\n",
    "    (a) freedom of conscience and religion;\n",
    "    (b) freedom of thought, belief, opinion and expression, including freedom of the press and other media of communication;\n",
    "    (c) freedom of peaceful assembly; and\n",
    "    (d) freedom of association.'''\n",
    "\n",
    "import re\n",
    "pattern = '\\(.\\)'\n",
    "print(len(re.findall(pattern,text)))"
   ]
  }
 ],
 "metadata": {
  "kernelspec": {
   "display_name": "Python 3.10.5 64-bit (system)",
   "language": "python",
   "name": "python3"
  },
  "language_info": {
   "codemirror_mode": {
    "name": "ipython",
    "version": 3
   },
   "file_extension": ".py",
   "mimetype": "text/x-python",
   "name": "python",
   "nbconvert_exporter": "python",
   "pygments_lexer": "ipython3",
   "version": "3.10.5"
  },
  "orig_nbformat": 4,
  "vscode": {
   "interpreter": {
    "hash": "b50ed6ac63a8ec1bd52de7044bf180293ce2cc06f07684af7b8f6a1d7629c741"
   }
  }
 },
 "nbformat": 4,
 "nbformat_minor": 2
}
