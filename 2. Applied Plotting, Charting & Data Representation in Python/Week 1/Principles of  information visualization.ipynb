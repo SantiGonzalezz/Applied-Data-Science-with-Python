{
 "cells": [
  {
   "cell_type": "markdown",
   "metadata": {},
   "source": [
    "# Principles of Information Visualization"
   ]
  },
  {
   "cell_type": "markdown",
   "metadata": {},
   "source": [
    "\n",
    "## Graphical heuristics\n",
    "\n",
    "The following concepts are a reference from Edwart Tufte\n",
    "\n",
    "### Data-ink ratio\n",
    "\n",
    "Remove to improve. Delete all elements that doesn't add any information to graph.\n",
    "\n",
    "### Chart Junk\n",
    "\n",
    "Althoug you want to avoid at maximum the use of things that doesn't provide any information by themselves. Junk could be sometimes useful, specially when you think of remembering a chart minutes or even weeks later.\n",
    "\n",
    "### Lie Factor and Spark Lines\n",
    "\n",
    "When you want to see some tendencies among data but without giving a huge amount of details you can use spark lines (small graphics, they can be in an Excel cell)\n",
    "\n",
    "Charts could make people confuse the meaning or the message we are sending with our visualization. This is called the lie factor, how to manipulate a graph in order to change the reality with data visiualization techniques.\n"
   ]
  },
  {
   "cell_type": "markdown",
   "metadata": {},
   "source": [
    "## The Truthful Art\n",
    "\n",
    "Alberto Cairo\n",
    "\n",
    "Truth is subjective, but there are some things that are more truth than others. We have to be honest and keep skepticisim at maximum in order to **avoid misleading yourself and your audience**."
   ]
  },
  {
   "cell_type": "code",
   "execution_count": 1,
   "metadata": {},
   "outputs": [],
   "source": [
    "import matplotlib.pyplot as plt"
   ]
  },
  {
   "cell_type": "code",
   "execution_count": null,
   "metadata": {},
   "outputs": [],
   "source": []
  }
 ],
 "metadata": {
  "kernelspec": {
   "display_name": "Python 3.10.6 64-bit",
   "language": "python",
   "name": "python3"
  },
  "language_info": {
   "codemirror_mode": {
    "name": "ipython",
    "version": 3
   },
   "file_extension": ".py",
   "mimetype": "text/x-python",
   "name": "python",
   "nbconvert_exporter": "python",
   "pygments_lexer": "ipython3",
   "version": "3.10.6"
  },
  "orig_nbformat": 4,
  "vscode": {
   "interpreter": {
    "hash": "dd14f85466f1c1274a7f813c7e51936489923580ae52659433b733773b1a6a00"
   }
  }
 },
 "nbformat": 4,
 "nbformat_minor": 2
}
